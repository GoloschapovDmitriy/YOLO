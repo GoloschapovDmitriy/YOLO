{
 "cells": [
  {
   "cell_type": "code",
   "execution_count": 1,
   "metadata": {
    "dotnet_interactive": {
     "language": "csharp"
    },
    "polyglot_notebook": {
     "kernelName": "csharp"
    },
    "vscode": {
     "languageId": "polyglot-notebook"
    }
   },
   "outputs": [
    {
     "name": "stdout",
     "output_type": "stream",
     "text": [
      "name\tavg\n",
      "c\t5\n",
      "a\t4.5\n",
      "b\t4.25\n",
      "d\t4\n"
     ]
    }
   ],
   "source": [
    "//6.2.1\n",
    "public struct Student\n",
    "{\n",
    "    public string Name;\n",
    "    public int[] Scores;\n",
    "}\n",
    "\n",
    "\n",
    "Student[] students = new Student[]\n",
    "{\n",
    "    new Student { Name = \"a\", Scores = new int[] { 4, 5, 4, 5 } },\n",
    "    new Student { Name = \"b\", Scores = new int[] { 3, 4, 5, 5 } },\n",
    "    new Student { Name = \"c\", Scores = new int[] { 5, 5, 5, 5 } },\n",
    "    new Student { Name = \"d\", Scores = new int[] { 4, 4, 4, 4 } },\n",
    "    new Student { Name = \"e\", Scores = new int[] { 2, 2, 2, 2 } }\n",
    "};\n",
    "\n",
    "double[] averages = new double[students.Length];\n",
    "for (int i = 0; i < students.Length; i++)\n",
    "{\n",
    "    averages[i] = students[i].Scores.Average();\n",
    "}\n",
    "\n",
    "Array.Sort(averages, students);\n",
    "Array.Reverse(students);\n",
    "\n",
    "Console.WriteLine(\"name\\tavg\");\n",
    "foreach (Student student in students)\n",
    "{\n",
    "    double average = student.Scores.Average();\n",
    "    if (average >= 4)\n",
    "    {\n",
    "        Console.WriteLine($\"{student.Name}\\t{average}\");\n",
    "    }\n",
    "}"
   ]
  },
  {
   "cell_type": "code",
   "execution_count": 4,
   "metadata": {
    "dotnet_interactive": {
     "language": "csharp"
    },
    "polyglot_notebook": {
     "kernelName": "csharp"
    },
    "vscode": {
     "languageId": "polyglot-notebook"
    }
   },
   "outputs": [
    {
     "name": "stdout",
     "output_type": "stream",
     "text": [
      "a: 8.2\n",
      "b: 5.9\n",
      "c: 0.8\n"
     ]
    }
   ],
   "source": [
    "//6.2.3\n",
    "public struct Jump\n",
    "{\n",
    "    public string Name;\n",
    "    public double[] Attempts;\n",
    "}\n",
    "\n",
    "\n",
    "Jump[] jumps = new Jump[]\n",
    "{\n",
    "    new Jump { Name = \"a\", Attempts = new double[] { 2.0, 8.2, 6.8 } },\n",
    "    new Jump { Name = \"b\", Attempts = new double[] { 3.6, 5.9, 5.7 } },\n",
    "    new Jump { Name = \"c\", Attempts = new double[] { 0.8, 0.7, 0.6 } },\n",
    "};\n",
    "\n",
    "foreach (Jump jump in jumps)\n",
    "{\n",
    "    Console.WriteLine($\"{jump.Name}: {jump.Attempts.Max()}\");\n",
    "}"
   ]
  }
 ],
 "metadata": {
  "language_info": {
   "name": "csharp"
  }
 },
 "nbformat": 4,
 "nbformat_minor": 2
}
