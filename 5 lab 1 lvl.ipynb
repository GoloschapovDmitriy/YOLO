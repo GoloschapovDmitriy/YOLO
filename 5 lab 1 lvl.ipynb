{
 "cells": [
  {
   "cell_type": "code",
   "execution_count": 2,
   "metadata": {
    "dotnet_interactive": {
     "language": "csharp"
    },
    "polyglot_notebook": {
     "kernelName": "csharp"
    },
    "vscode": {
     "languageId": "polyglot-notebook"
    }
   },
   "outputs": [
    {
     "name": "stdout",
     "output_type": "stream",
     "text": [
      "4\r\n"
     ]
    }
   ],
   "source": [
    "//5.1.1\n",
    "static double f(int n)\n",
    "{\n",
    "    int s = 1;\n",
    "    for(int i = 1;i<=n;i++)\n",
    "    {\n",
    "        s *= i;\n",
    "    }\n",
    "    return (double)s;\n",
    "}\n",
    "static double c(int n,int k)\n",
    "{\n",
    "    return f(n) / (f(k) * f(n - k));\n",
    "}\n",
    "Console.WriteLine(c(4,3));"
   ]
  },
  {
   "cell_type": "code",
   "execution_count": 4,
   "metadata": {
    "dotnet_interactive": {
     "language": "csharp"
    },
    "polyglot_notebook": {
     "kernelName": "csharp"
    },
    "vscode": {
     "languageId": "polyglot-notebook"
    }
   },
   "outputs": [
    {
     "name": "stdout",
     "output_type": "stream",
     "text": [
      "2.9047375096555625\r\n"
     ]
    }
   ],
   "source": [
    "//5.1.2\n",
    "static double g(int a, int b,int c)\n",
    "{\n",
    "    double p = (a + b + c)/ 2.0;\n",
    "    return Math.Sqrt(p*(p-a)*(p-b)*(p-c));\n",
    "}\n",
    "Console.WriteLine(g(2, 3, 4));"
   ]
  }
 ],
 "metadata": {
  "language_info": {
   "name": "csharp"
  }
 },
 "nbformat": 4,
 "nbformat_minor": 2
}
