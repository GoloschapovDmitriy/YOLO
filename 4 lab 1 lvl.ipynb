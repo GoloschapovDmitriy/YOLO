{
 "cells": [
  {
   "cell_type": "code",
   "execution_count": 1,
   "metadata": {
    "dotnet_interactive": {
     "language": "csharp"
    },
    "polyglot_notebook": {
     "kernelName": "csharp"
    },
    "vscode": {
     "languageId": "polyglot-notebook"
    }
   },
   "outputs": [
    {
     "name": "stdout",
     "output_type": "stream",
     "text": [
      "1 2 3 4 \n",
      "5 6 7 8 \n",
      "9 10 11 12 \n",
      "13 14 15 16 \n",
      "34\n"
     ]
    }
   ],
   "source": [
    "//4.1.3\n",
    "int[,] a = new int[,] {\n",
    "{1,2,3,4},\n",
    "{5,6,7,8},\n",
    "{9,10,11,12},\n",
    "{13,14,15,16}};\n",
    "int s = 0;\n",
    "for (int i = 0; i < a.GetLength(0); i++)\n",
    "{\n",
    "    for (int j = 0; j < a.GetLength(1); j++)\n",
    "    {\n",
    "        Console.Write(\"{0} \",a[i, j]);\n",
    "    }\n",
    "    Console.WriteLine();\n",
    "}\n",
    "for(int i = 0; i<4; i++)\n",
    "{\n",
    "    s += a[i,i];\n",
    "}\n",
    "Console.WriteLine(s);"
   ]
  },
  {
   "cell_type": "code",
   "execution_count": 3,
   "metadata": {
    "dotnet_interactive": {
     "language": "csharp"
    },
    "polyglot_notebook": {
     "kernelName": "csharp"
    },
    "vscode": {
     "languageId": "polyglot-notebook"
    }
   },
   "outputs": [
    {
     "name": "stdout",
     "output_type": "stream",
     "text": [
      "0 6 4 3\r\n"
     ]
    }
   ],
   "source": [
    "//4.1.6\n",
    "const int n = 4;\n",
    "const int m = 7;\n",
    "int k=0;\n",
    "int[,] a= new int[n, m] {\n",
    "    {1, 7, 3, 4, 7, 12, 4},\n",
    "    {53, 6, 7, 8, 2, 43, 0},\n",
    "    {9, 10, 11, 12, 1, 3, 4},\n",
    "    {3, 14, 5, 1, 15, 13, 5}\n",
    "};\n",
    "int[] b = new int[n];\n",
    "for (int i = 0;i<n;i++)\n",
    "{\n",
    "    int min = 9999;\n",
    "    for (int j=0;j<m;j++)\n",
    "    {\n",
    "        if (a[i,j]<min)\n",
    "        {\n",
    "            min = a[i,j];\n",
    "            k = j;\n",
    "        }\n",
    "    }\n",
    "    b[i] = k;\n",
    "}\n",
    "Console.WriteLine(string.Join(\" \",b));"
   ]
  },
  {
   "cell_type": "code",
   "execution_count": 4,
   "metadata": {
    "dotnet_interactive": {
     "language": "csharp"
    },
    "polyglot_notebook": {
     "kernelName": "csharp"
    },
    "vscode": {
     "languageId": "polyglot-notebook"
    }
   },
   "outputs": [
    {
     "name": "stdout",
     "output_type": "stream",
     "text": [
      "1 2 3 5 6 7 \n",
      "2 3 4 6 7 8 \n",
      "4 5 6 8 9 10 \n",
      "5 6 7 9 10 11 \n",
      "6 7 8 10 11 12 \n"
     ]
    }
   ],
   "source": [
    "//4.1.12\n",
    "const int n = 6;\n",
    "const int m = 7;\n",
    "int[,] a = new int[n, m] {\n",
    "    {1, 2, 3, 4, 5, 6, 7},\n",
    "    {2, 3, 4, 5, 6, 7, 8},\n",
    "    {3, 4, 5, 55, 7, 8, 9},\n",
    "    {4, 5, 6, -10, 8, 9, 10},\n",
    "    {5, 6, 7, 8, 9, 10, 11},\n",
    "    {6, 7, 8, 9, 10, 11, 12},\n",
    "};\n",
    "int max = -9999, k1=0, k2=0;\n",
    "for(int i = 0; i < n; i++)\n",
    "{\n",
    "    for(int j = 0; j<m;j++)\n",
    "    {\n",
    "        if (a[i, j] > max)\n",
    "        {\n",
    "            max = a[i, j];\n",
    "            k1 = i;\n",
    "            k2 = j;\n",
    "        }\n",
    "    }\n",
    "}\n",
    "int[,]b= new int[n-1, m-1];\n",
    "int xs = 0,ys = 0;\n",
    "for(int i=0;i<n;i++)\n",
    "{\n",
    "    if (k1 == i)\n",
    "    {\n",
    "        xs = -1;\n",
    "        continue;\n",
    "    }\n",
    "    ys = 0;\n",
    "    for(int j=0;j<m;j++)\n",
    "    {\n",
    "        if(k2==j)\n",
    "        {\n",
    "            ys = -1;\n",
    "            continue;\n",
    "        }\n",
    "        b[i+xs, j + ys] = a[i, j];\n",
    "    }\n",
    "    \n",
    "}\n",
    "for (int i = 0; i < b.GetLength(0); i++)\n",
    "{\n",
    "    for (int j = 0; j < b.GetLength(1); j++)\n",
    "    {\n",
    "        Console.Write(\"{0} \", b[i, j]);\n",
    "    }\n",
    "    Console.WriteLine();\n",
    "}"
   ]
  },
  {
   "cell_type": "code",
   "execution_count": 5,
   "metadata": {
    "dotnet_interactive": {
     "language": "csharp"
    },
    "polyglot_notebook": {
     "kernelName": "csharp"
    },
    "vscode": {
     "languageId": "polyglot-notebook"
    }
   },
   "outputs": [
    {
     "name": "stdout",
     "output_type": "stream",
     "text": [
      "1 4 3 2 5 \n",
      "6 9 8 99 10 \n",
      "11 14 13 12 150 \n",
      "16 19 18 17 20 \n",
      "21 24 23 22 26 \n"
     ]
    }
   ],
   "source": [
    "//4.1.13\n",
    "const int n = 5;\n",
    "const int m = 5;\n",
    "int[,] a = new int[n, m] {\n",
    "    {1, 2, 3, 4, 5},\n",
    "    {6, 99, 8, 9, 10},\n",
    "    {11, 12, 13, 14, 150},\n",
    "    {16, 17, 18, 19, 20},\n",
    "    {21, 22, 23, 24, 26}\n",
    "};\n",
    "int max = -9999;\n",
    "int k = 0;\n",
    "for (int i = 0; i < n; i++)\n",
    "{\n",
    "    if (a[i,i]>max)\n",
    "    {\n",
    "        max = a[i,i];\n",
    "        k = i;\n",
    "    }\n",
    "}\n",
    "for (int i = 0;i < n; i++)\n",
    "{\n",
    "    int g = a[i, 3];\n",
    "    a[i, 3] = a[i, k];\n",
    "    a[i,k] = g;\n",
    "}\n",
    "for (int i = 0; i < a.GetLength(0); i++)\n",
    "{\n",
    "    for (int j = 0; j < a.GetLength(1); j++)\n",
    "    {\n",
    "        Console.Write(\"{0} \", a[i, j]);\n",
    "    }\n",
    "    Console.WriteLine();\n",
    "}"
   ]
  },
  {
   "cell_type": "code",
   "execution_count": 6,
   "metadata": {
    "dotnet_interactive": {
     "language": "csharp"
    },
    "polyglot_notebook": {
     "kernelName": "csharp"
    },
    "vscode": {
     "languageId": "polyglot-notebook"
    }
   },
   "outputs": [
    {
     "name": "stdout",
     "output_type": "stream",
     "text": [
      "-4 1 2 3 5 \n",
      "-7 6 8 9 10 \n",
      "-15 11 12 13 14 \n",
      "-19 16 17 18 20 \n",
      "-23 21 22 24 26 \n"
     ]
    }
   ],
   "source": [
    "//4.1.17\n",
    "const int n = 5;\n",
    "const int m = 5;\n",
    "int[,] R = new int[n, m] {\n",
    "    {1, 2, 3, -4, 5},\n",
    "    {6, -7, 8, 9, 10},\n",
    "    {11, 12, 13, 14, -15},\n",
    "    {16, 17, 18, -19, 20},\n",
    "    {21, 22, -23, 24, 26},\n",
    "};\n",
    "\n",
    "\n",
    "for (int i = 0; i < n; i++)\n",
    "{\n",
    "    int minIndex = 0;\n",
    "    int minValue = R[i, 0];\n",
    "    for (int j = 1; j < m; j++)\n",
    "    {\n",
    "        if (R[i, j] < minValue)\n",
    "        {\n",
    "            minValue = R[i, j];\n",
    "            minIndex = j;\n",
    "        }\n",
    "    }\n",
    "\n",
    "    for (int j = minIndex; j > 0; j--)\n",
    "    {\n",
    "        R[i, j] = R[i, j - 1];\n",
    "    }\n",
    "\n",
    "    R[i, 0] = minValue;\n",
    "}\n",
    "\n",
    "// print array\n",
    "for (int row = 0; row < n; row++)\n",
    "{\n",
    "    for (int col = 0; col < m; col++)\n",
    "        Console.Write(String.Format(\"{0} \", R[row, col]));\n",
    "    Console.WriteLine();\n",
    "}"
   ]
  },
  {
   "cell_type": "code",
   "execution_count": 7,
   "metadata": {
    "dotnet_interactive": {
     "language": "csharp"
    },
    "polyglot_notebook": {
     "kernelName": "csharp"
    },
    "vscode": {
     "languageId": "polyglot-notebook"
    }
   },
   "outputs": [
    {
     "name": "stdout",
     "output_type": "stream",
     "text": [
      "1 2 3 5 \n",
      "349 999 8 10 \n",
      "11 12 13 15 \n",
      "16 17 18 20 \n",
      "21 22 23 26 \n"
     ]
    }
   ],
   "source": [
    "//4.1.29\n",
    "const int n = 5;\n",
    "const int m = 5;\n",
    "int[,] R = new int[n, m] {\n",
    "    {1, 2, 3, 4, 5},\n",
    "    {349, 999, 8, 9, 10},\n",
    "    {11, 12, 13, 14, 15},\n",
    "    {16, 17, 18, 19, 20},\n",
    "    {21, 22, 23, 24, 26},\n",
    "};\n",
    "\n",
    "\n",
    "int minIndex = 0;\n",
    "int minValue = int.MaxValue;\n",
    "\n",
    "for (int j = 0; j < m; j++)\n",
    "{\n",
    "    if (Math.Abs(R[1, j]) < minValue)\n",
    "    {\n",
    "        minValue = Math.Abs(R[1, j]);\n",
    "        minIndex = j;\n",
    "    }\n",
    "}\n",
    "\n",
    "// new ar\n",
    "int[,] L = new int[n, m - 1];\n",
    "for (int i = 0; i < n; i++)\n",
    "{\n",
    "    for (int j = 0; j < m; j++)\n",
    "    {\n",
    "        if (j < minIndex + 1)\n",
    "        {\n",
    "            L[i, j] = R[i, j];\n",
    "        }\n",
    "        else if (j > minIndex + 1)\n",
    "        {\n",
    "            L[i, j - 1] = R[i, j];\n",
    "        }\n",
    "    }\n",
    "}\n",
    "\n",
    "// print array\n",
    "for (int row = 0; row < n; row++)\n",
    "{\n",
    "    for (int col = 0; col < m-1; col++)\n",
    "        Console.Write(String.Format(\"{0} \", L[row, col]));\n",
    "    Console.WriteLine();\n",
    "}"
   ]
  },
  {
   "cell_type": "code",
   "execution_count": 8,
   "metadata": {
    "dotnet_interactive": {
     "language": "csharp"
    },
    "polyglot_notebook": {
     "kernelName": "csharp"
    },
    "vscode": {
     "languageId": "polyglot-notebook"
    }
   },
   "outputs": [
    {
     "name": "stdout",
     "output_type": "stream",
     "text": [
      "1 2 3 4 1 5 6 7 \n",
      "349 999 8 9 2 10 3 4 \n",
      "11 12 13 14 3 15 5 6 \n",
      "16 17 18 19 4 20 7 8 \n",
      "21 22 23 0 5 26 1 2 \n"
     ]
    }
   ],
   "source": [
    "//4.1.31\n",
    "const int n = 5;\n",
    "const int m = 8;\n",
    "int[,] R = new int[n, m] {\n",
    "    {1, 2, 3, 4, 5, 6, 7, 8},\n",
    "    {349, 999, 8, 9, 10, 3, 4, 3},\n",
    "    {11, 12, 13, 14, 15,5, 6, 3},\n",
    "    {16, 17, 18, 19, 20, 7, 8, 9},\n",
    "    {21, 22, 23, 0, 26, 1, 2, 3},\n",
    "};\n",
    "int[] B = new int[5] { 1, 2, 3, 4, 5 };\n",
    "\n",
    "\n",
    "int minIndex = 0;\n",
    "int minValue = int.MaxValue;\n",
    "\n",
    "for (int j = 0; j < m - 1; j++)\n",
    "{\n",
    "    if (R[4, j] < minValue)\n",
    "    {\n",
    "        minValue = R[4, j];\n",
    "        minIndex = j;\n",
    "    }\n",
    "}\n",
    "\n",
    "for (int j = m - 2; j > minIndex; j--)\n",
    "{\n",
    "    for (int i = 0; i < n; i++)\n",
    "    {\n",
    "        R[i, j + 1] = R[i, j];\n",
    "    }\n",
    "}\n",
    "\n",
    "for (int i = 0; i < n; i++)\n",
    "{\n",
    "    R[i, minIndex + 1] = B[i];\n",
    "}\n",
    "\n",
    "// print array\n",
    "for (int row = 0; row < n; row++)\n",
    "{\n",
    "    for (int col = 0; col < m; col++)\n",
    "        Console.Write(String.Format(\"{0} \", R[row, col]));\n",
    "    Console.WriteLine();\n",
    "}"
   ]
  }
 ],
 "metadata": {
  "language_info": {
   "name": "csharp"
  }
 },
 "nbformat": 4,
 "nbformat_minor": 2
}
