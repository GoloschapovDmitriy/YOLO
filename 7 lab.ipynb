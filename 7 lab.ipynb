{
 "cells": [
  {
   "cell_type": "code",
   "execution_count": 5,
   "metadata": {
    "dotnet_interactive": {
     "language": "csharp"
    },
    "polyglot_notebook": {
     "kernelName": "csharp"
    },
    "vscode": {
     "languageId": "polyglot-notebook"
    }
   },
   "outputs": [
    {
     "name": "stdout",
     "output_type": "stream",
     "text": [
      "c\t5\n",
      "a\t4.5\n",
      "b\t4.25\n",
      "d\t4\n"
     ]
    }
   ],
   "source": [
    "//7.2.1\n",
    "class Student\n",
    "{\n",
    "    public string Name { get; }\n",
    "    public int[] Scores { get; }\n",
    "\n",
    "    public Student (string name, int[] scores)\n",
    "    {\n",
    "        Name = name;\n",
    "        Scores = scores;\n",
    "    }\n",
    "\n",
    "    public double AverageScores()\n",
    "    {\n",
    "        double sum = 0;\n",
    "        foreach (int score in Scores)\n",
    "        {\n",
    "            sum += score;\n",
    "        }\n",
    "        return sum / Scores.Length;\n",
    "    }\n",
    "\n",
    "    public void printscores()\n",
    "    {\n",
    "        if (AverageScores() >= 4)\n",
    "        {\n",
    "            Console.WriteLine($\"{Name}\\t{AverageScores()}\");\n",
    "        }\n",
    "    }\n",
    "}\n",
    "\n",
    "\n",
    "Student[] students = new Student[]\n",
    "{\n",
    "    new Student(\"a\", new int[] { 4, 5, 4, 5 } ),\n",
    "    new Student(\"b\", new int[] { 3, 4, 5, 5 } ),\n",
    "    new Student(\"c\", new int[] { 5, 5, 5, 5 } ),\n",
    "    new Student(\"d\", new int[] { 4, 4, 4, 4 } ),\n",
    "    new Student(\"e\", new int[] { 2, 2, 2, 2 } )\n",
    "};\n",
    "\n",
    "double[] averages = new double[students.Length];\n",
    "for (int i = 0; i < students.Length; i++)\n",
    "{\n",
    "    averages[i] = students[i].AverageScores();\n",
    "}\n",
    "\n",
    "Array.Sort(averages, students);\n",
    "Array.Reverse(students);\n",
    "\n",
    "foreach (Student student in students)\n",
    "{\n",
    "    student.printscores();\n",
    "}"
   ]
  },
  {
   "cell_type": "code",
   "execution_count": 3,
   "metadata": {
    "dotnet_interactive": {
     "language": "csharp"
    },
    "polyglot_notebook": {
     "kernelName": "csharp"
    },
    "vscode": {
     "languageId": "polyglot-notebook"
    }
   },
   "outputs": [
    {
     "name": "stdout",
     "output_type": "stream",
     "text": [
      "a: 8.2\n",
      "b: 5.9\n",
      "c: 0.8\n"
     ]
    }
   ],
   "source": [
    "//7.2.3\n",
    "\n",
    "public struct Jump\n",
    "{\n",
    "    public string Name;\n",
    "    public double[] Attempts;\n",
    "\n",
    "    public Jump(string name, double[] attempts){\n",
    "        Name = name;\n",
    "        Attempts = attempts;\n",
    "    }\n",
    "\n",
    "    public double BestJump(){\n",
    "        return Attempts.Max();\n",
    "    }\n",
    "    \n",
    "}\n",
    "\n",
    "\n",
    "Jump[] jumps = new Jump[]\n",
    "{\n",
    "    new Jump( \"a\", new double[] { 2.0, 8.2, 6.8 } ),\n",
    "    new Jump(\"b\",  new double[] { 3.6, 5.9, 5.7 } ),\n",
    "    new Jump(\"c\", new double[] { 0.8, 0.7, 0.6 } ),\n",
    "};\n",
    "\n",
    "foreach (Jump jump in jumps)\n",
    "{\n",
    "    Console.WriteLine($\"{jump.Name}: {jump.BestJump()}\");\n",
    "}"
   ]
  }
 ],
 "metadata": {
  "language_info": {
   "name": "csharp"
  }
 },
 "nbformat": 4,
 "nbformat_minor": 2
}
