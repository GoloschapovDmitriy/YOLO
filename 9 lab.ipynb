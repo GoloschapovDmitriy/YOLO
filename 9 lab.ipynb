{
 "cells": [
  {
   "cell_type": "code",
   "execution_count": 5,
   "metadata": {
    "dotnet_interactive": {
     "language": "csharp"
    },
    "polyglot_notebook": {
     "kernelName": "csharp"
    },
    "vscode": {
     "languageId": "polyglot-notebook"
    }
   },
   "outputs": [
    {
     "name": "stdout",
     "output_type": "stream",
     "text": [
      "c\t5\n",
      "a\t4.5\n",
      "b\t4.25\n",
      "d\t4\n"
     ]
    }
   ],
   "source": [
    "using System.IO;\n",
    "using System.Text;\n",
    "\n",
    "// 9.2.1\n",
    "\n",
    "class Student\n",
    "{\n",
    "    public string Name { get; }\n",
    "    public int[] Scores { get; }\n",
    "\n",
    "    public Student (string name, int[] scores)\n",
    "    {\n",
    "        Name = name;\n",
    "        Scores = scores;\n",
    "    }\n",
    "\n",
    "    public double AverageScores()\n",
    "    {\n",
    "        double sum = 0;\n",
    "        foreach (int score in Scores)\n",
    "        {\n",
    "            sum += score;\n",
    "        }\n",
    "        return sum / Scores.Length;\n",
    "    }\n",
    "\n",
    "    public void printscores()\n",
    "    {\n",
    "        if (AverageScores() >= 4)\n",
    "        {\n",
    "            Console.WriteLine($\"{Name}\\t{AverageScores()}\");\n",
    "        }\n",
    "    }\n",
    "}\n",
    "\n",
    "Student[] students = new Student[5];\n",
    "\n",
    "\n",
    "string line;\n",
    "string path = \"9_2_1.txt\";\n",
    "StreamReader sr = new StreamReader(path);\n",
    "\n",
    "int cnt = 0;\n",
    "\n",
    "while ((line = sr.ReadLine()) != null){\n",
    "    string[] rawd = line.Split(\" \");\n",
    "    string tempname = rawd[0];\n",
    "\n",
    "    int[] tempscores = new int[rawd.Length-1];\n",
    "    for (int i = 1; i < rawd.Length; i++){\n",
    "        tempscores[i-1] = Int32.Parse(rawd[i]);\n",
    "    }\n",
    "    students[cnt] = new Student(tempname, tempscores);\n",
    "    cnt++;\n",
    "}\n",
    "\n",
    "\n",
    "double[] averages = new double[students.Length];\n",
    "for (int i = 0; i < students.Length; i++)\n",
    "{\n",
    "    averages[i] = students[i].AverageScores();\n",
    "}\n",
    "\n",
    "Array.Sort(averages, students);\n",
    "Array.Reverse(students);\n",
    "\n",
    "foreach (Student student in students)\n",
    "{\n",
    "    student.printscores();\n",
    "}"
   ]
  },
  {
   "cell_type": "code",
   "execution_count": 6,
   "metadata": {
    "dotnet_interactive": {
     "language": "csharp"
    },
    "polyglot_notebook": {
     "kernelName": "csharp"
    },
    "vscode": {
     "languageId": "polyglot-notebook"
    }
   },
   "outputs": [
    {
     "name": "stdout",
     "output_type": "stream",
     "text": [
      "a: 18.7\n",
      "b: 65.4\n",
      "c: 0.8\n"
     ]
    }
   ],
   "source": [
    "// 9.2.3\n",
    "\n",
    "using System.IO;\n",
    "using System.Text;\n",
    "\n",
    "\n",
    "class Jump\n",
    "{\n",
    "    public string Name;\n",
    "    public double[] Attempts;\n",
    "\n",
    "    public Jump(string name, double[] attempts){\n",
    "        Name = name;\n",
    "        Attempts = attempts;\n",
    "    }\n",
    "\n",
    "    public double BestJump(){\n",
    "        return Attempts.Max();\n",
    "    }\n",
    "    \n",
    "}\n",
    "\n",
    "\n",
    "Jump[] jumps = new Jump[3];\n",
    "\n",
    "\n",
    "string line;\n",
    "string path = \"9_2_2.txt\";\n",
    "StreamReader sr = new StreamReader(path);\n",
    "\n",
    "int cnt = 0;\n",
    "\n",
    "while ((line = sr.ReadLine()) != null){\n",
    "    string[] rawd = line.Split(\" \");\n",
    "    string tempname = rawd[0];\n",
    "\n",
    "    double[] tempscores = new double[rawd.Length-1];\n",
    "    for (int i = 1; i < rawd.Length; i++){\n",
    "        tempscores[i-1] = Double.Parse(rawd[i]);\n",
    "    }\n",
    "    jumps[cnt] = new Jump(tempname, tempscores);\n",
    "    cnt++;\n",
    "}\n",
    "\n",
    "\n",
    "foreach (Jump jump in jumps)\n",
    "{\n",
    "    Console.WriteLine($\"{jump.Name}: {jump.BestJump()}\");\n",
    "}"
   ]
  }
 ],
 "metadata": {
  "language_info": {
   "name": "csharp"
  }
 },
 "nbformat": 4,
 "nbformat_minor": 2
}
