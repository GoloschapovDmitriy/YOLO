{
 "cells": [
  {
   "cell_type": "code",
   "execution_count": 2,
   "metadata": {
    "dotnet_interactive": {
     "language": "csharp"
    },
    "polyglot_notebook": {
     "kernelName": "csharp"
    },
    "vscode": {
     "languageId": "polyglot-notebook"
    }
   },
   "outputs": [
    {
     "name": "stdout",
     "output_type": "stream",
     "text": [
      "one two three four five 12345\n",
      "eno owt eerht ruof evif 54321\n",
      "one two three four five 12345\n"
     ]
    }
   ],
   "source": [
    "//8.2\n",
    "static string ReverseWords(string input)\n",
    "{\n",
    "    string[] words = input.Split(' ');\n",
    "    string[] reversedWords = new string[words.Length];\n",
    "    \n",
    "    int cnt = 0;\n",
    "    foreach(string m in words) {\n",
    "        char[] g = m.ToCharArray();\n",
    "        Array.Reverse(g);\n",
    "        reversedWords[cnt] = new String(g);\n",
    "        cnt++;\n",
    "    }\n",
    "    return string.Join(\" \", reversedWords);\n",
    "}\n",
    "\n",
    "string input = \"one two three four five 12345\";\n",
    "Console.WriteLine(input);\n",
    "string output = ReverseWords(input);\n",
    "Console.WriteLine(output);\n",
    "string inputtest = ReverseWords(output);\n",
    "Console.WriteLine(inputtest);"
   ]
  },
  {
   "cell_type": "code",
   "execution_count": 3,
   "metadata": {
    "dotnet_interactive": {
     "language": "csharp"
    },
    "polyglot_notebook": {
     "kernelName": "csharp"
    },
    "vscode": {
     "languageId": "polyglot-notebook"
    }
   },
   "outputs": [
    {
     "name": "stdout",
     "output_type": "stream",
     "text": [
      "11\r\n"
     ]
    }
   ],
   "source": [
    "//8.4\n",
    "string sentence = \"A quick, brown fox jumps over the lazy dog.\";\n",
    "\n",
    "char[] signs = new char[] {'.', ','};\n",
    "\n",
    "int wordcount = sentence.Split().GetLength(0);\n",
    "int signcount = 0;\n",
    "foreach (char c in sentence) {\n",
    "    if (signs.Contains(c)){\n",
    "        signcount++;\n",
    "    }\n",
    "}\n",
    "\n",
    "Console.WriteLine(wordcount+signcount)"
   ]
  }
 ],
 "metadata": {
  "language_info": {
   "name": "csharp"
  }
 },
 "nbformat": 4,
 "nbformat_minor": 2
}
